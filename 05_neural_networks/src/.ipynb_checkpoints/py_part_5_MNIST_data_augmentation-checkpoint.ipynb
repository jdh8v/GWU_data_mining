{
 "cells": [
  {
   "cell_type": "markdown",
   "metadata": {},
   "source": [
    "## Basic Data Augmentation for MNIST Example"
   ]
  },
  {
   "cell_type": "code",
   "execution_count": 1,
   "metadata": {
    "collapsed": false
   },
   "outputs": [],
   "source": [
    "# imports\n",
    "import cv2\n",
    "import csv\n",
    "import numpy\n",
    "import math\n",
    "\n",
    "# for showing images in the notebook\n",
    "from IPython.display import Image\n",
    "from IPython.display import display"
   ]
  },
  {
   "cell_type": "markdown",
   "metadata": {},
   "source": [
    "#### Assign global constants"
   ]
  },
  {
   "cell_type": "code",
   "execution_count": 2,
   "metadata": {
    "collapsed": true
   },
   "outputs": [],
   "source": [
    "# debug mode - prints the number images specified by debug_cutoff  \n",
    "DEBUG = True             # does not create new file; just displays pictures of new images  \n",
    "DEBUG_CUTOFF = 5         # number of new images to display\n",
    "\n",
    "# train mode \n",
    "TRAIN = True             # adds labels to first column; true for training data; false for test\n",
    "NORMALIZE_ONLY = False   # does not add distorted records \n",
    "\n",
    "# io/file locations\n",
    "DIR = '/Users/phall/workspace/GWU_data_mining/05_neural_networks/data'\n",
    "FILE_IN = 'train.csv'\n",
    "FILE_OUT = 'train_augmented.csv'\n",
    "\n",
    "# probably never change below this line\n",
    "################################################################################\n",
    "\n",
    "# global magic numbers for images ... \n",
    "\n",
    "INPUT_SIZE = (28, 28)    # size of input image, 2-tuple\n",
    "OUT_SIZE = (28, 28)      # size of output image, 2-tuple\n",
    "\n",
    "NORM_SIZE = (21, 21)     # final bounding box size for normalized images, 2-tuple, < OUT_SIZE \n",
    "NORM_EXPAND_SIZE = int((27-NORM_SIZE[0])/2)\n",
    " \n",
    "LARGE_SIZE = (25, 25)   # final bounding box size for enlarged images, 2-tuple,< OUT_SIZE  \n",
    "LARGE_EXPAND_SIZE = int((27-LARGE_SIZE[0])/2)\n",
    "\n",
    "RAND_PERCENT = 0.15     # noise injection, < 1.0\n",
    "RAND_THRESHOLD = int(OUT_SIZE[0]*OUT_SIZE[0]*RAND_PERCENT)\n",
    "\n",
    "DEGREE = 15              # rotation degree\n",
    "\n",
    "### more complicated ...\n",
    "\n",
    "# turning a 1, 7 or other skinny number into a square during normalization is dumb\n",
    "# to avoid doing so, don't resize numbers whose left most pixel is located\n",
    "# at a index >= to SKINNY_THRESHOLD \n",
    "SKINNY_THRESHOLD = 10                \n",
    "\n",
    "# difficult to see (and therefore test) the bounding box without this, 0-255\n",
    "TO_BLACK_THRESHOLD = 50 "
   ]
  },
  {
   "cell_type": "markdown",
   "metadata": {},
   "source": [
    "#### Helper functions for image augmentation"
   ]
  },
  {
   "cell_type": "code",
   "execution_count": 3,
   "metadata": {
    "collapsed": true
   },
   "outputs": [],
   "source": [
    "def write_image_to_record(src, out_csv, row_label=None):\n",
    "    \n",
    "    \"\"\" Writes an OpenCV image array to a single csv record.\n",
    "    \n",
    "    :param src: OpenCV image array.\n",
    "    :param out_csv: Name of file to which to write record.\n",
    "    :param row_label: Image label for training data.\n",
    "    \n",
    "    \"\"\"\n",
    "    \n",
    "    out = numpy.array(src).flatten()\n",
    "    \n",
    "    if (row_label != None): \n",
    "        out = numpy.insert(out, 0, row_label)\n",
    "        \n",
    "    out_csv.writerow(out)\n"
   ]
  },
  {
   "cell_type": "code",
   "execution_count": 4,
   "metadata": {
    "collapsed": true
   },
   "outputs": [],
   "source": [
    "def normalize_scale(src, out_size=OUT_SIZE, norm_size=NORM_SIZE, norm_expand_size=NORM_EXPAND_SIZE, \n",
    "                    skinny_threshold=SKINNY_THRESHOLD, to_black_threshold=TO_BLACK_THRESHOLD):\n",
    "    \n",
    "    \"\"\" Normalizes OpenCV MNIST image arrays.\n",
    "    \n",
    "    :param src: OpenCV image array.\n",
    "    :param out_size: Size of output image, 2-tuple.\n",
    "    :param norm_size: Final bounding box size for normalized images, 2-tuple, < out_size.\n",
    "    :param norm_expand_size: Amount of padding to leave outside normalized images.\n",
    "    :param skinny_threshold: Don't resize numbers whose left most pixel is located\n",
    "                             at a index >= to skinny threshold. \n",
    "    :param to_black_threshold: Difficult to see the bounding box without this, 0-255.\n",
    "    :return: Normalized OpenCV MNIST image array.\n",
    "\n",
    "    \"\"\"\n",
    "\n",
    "    src[src < to_black_threshold] = 0\n",
    "    \n",
    "    bottom, top= numpy.min(numpy.nonzero(src)[0]), numpy.max(numpy.nonzero(src)[0])\n",
    "    left, right= numpy.min(numpy.nonzero(src.T)[0]), numpy.max(numpy.nonzero(src.T)[0])\n",
    "    \n",
    "    bounding_box = src[bottom:top + 1, left:right + 1]\n",
    "    \n",
    "    if (left >= skinny_threshold): \n",
    "        skinny = True \n",
    "    else: \n",
    "        skinny = False\n",
    "        \n",
    "    if skinny: \n",
    "        return cv2.resize(src, (out_size))\n",
    "    else:\n",
    "        norm = cv2.resize(bounding_box, (norm_size))\n",
    "        return cv2.copyMakeBorder(norm, norm_expand_size, norm_expand_size, norm_expand_size, norm_expand_size, 0)\n"
   ]
  },
  {
   "cell_type": "code",
   "execution_count": 5,
   "metadata": {
    "collapsed": true
   },
   "outputs": [],
   "source": [
    "def inject_noise(src, out_size=OUT_SIZE, rand_threshold=RAND_THRESHOLD):\n",
    "    \n",
    "    \"\"\" Performs noise injection on an OpenCV image arrays.\n",
    "    \n",
    "    :param src: OpenCV image array. \n",
    "    :param out_size: Size of output image, 2-tuple.\n",
    "    :param rand_threshold: Amount of random noise to inject, 0-1.\n",
    "    :return: An OpenCV MNIST image array with random noise injection.\n",
    "    \n",
    "    \"\"\"\n",
    "    \n",
    "    noise=numpy.copy(src) # deep copy\n",
    "    noise[numpy.random.randint(out_size[0]-1, size=rand_threshold), numpy.random.randint(out_size[0]-1, size=rand_threshold)] = 0\n",
    "\n",
    "    return noise\n"
   ]
  },
  {
   "cell_type": "code",
   "execution_count": 6,
   "metadata": {
    "collapsed": true
   },
   "outputs": [],
   "source": [
    "def enlarge(src, skinny_threshold=SKINNY_THRESHOLD, input_size=INPUT_SIZE, out_size=OUT_SIZE, \n",
    "            large_size=LARGE_SIZE, large_expand_size=LARGE_EXPAND_SIZE):\n",
    "\n",
    "    \"\"\" Enlarges OpenCV image arrays.\n",
    "    \n",
    "    :param src: OpenCV image array.\n",
    "    :param skinny_threshold: Don't resize numbers whose left most pixel is located\n",
    "                             at a index >= to skinny threshold. \n",
    "    :param input_size: Size of input image, 2-tuple.                       \n",
    "    :param out_size: Size of output image, 2-tuple.\n",
    "    :param large_size: Bounding box for enlarged image.\n",
    "    :param large_expand_size: Amount of padding to leave outside enlarged images.\n",
    "    :return: Enlarged OpenCV MNIST image array.\n",
    "    \n",
    "    \"\"\"\n",
    "    \n",
    "    bottom, top = numpy.min(numpy.nonzero(src)[0]), numpy.max(numpy.nonzero(src)[0])\n",
    "    left, right = numpy.min(numpy.nonzero(src.T)[0]), numpy.max(numpy.nonzero(src.T)[0])\n",
    "    bounding_box = src[bottom:top + 1, left:right + 1]\n",
    "    \n",
    "    if (left >= skinny_threshold): \n",
    "        skinny = True \n",
    "    else: \n",
    "        skinny = False\n",
    "        \n",
    "    if (skinny):\n",
    "        tall_bounding_box = src[bottom - 1:top + 2, 0:input_size[0] - 1]\n",
    "        return cv2.resize(tall_bounding_box, (out_size))\n",
    "    else: \n",
    "        large = cv2.resize(bounding_box, large_size)                                                            \n",
    "        return cv2.copyMakeBorder(large, large_expand_size, large_expand_size, large_expand_size, large_expand_size, 0)\n"
   ]
  },
  {
   "cell_type": "code",
   "execution_count": 7,
   "metadata": {
    "collapsed": true
   },
   "outputs": [],
   "source": [
    "def rotate_about_center(src, angle, scale=1.0):\n",
    "    \n",
    "    \"\"\" Rotates OpenCV image arrays.\n",
    "    \n",
    "    :param src: OpenCV image array.\n",
    "    :param angle: Rotation degree.\n",
    "    :param scale: Factor by which to scale rotated images.\n",
    "    :return: Rotated OpenCV MNIST image array.\n",
    "    \n",
    "    \"\"\"\n",
    "    \n",
    "    w = src.shape[1]\n",
    "    h = src.shape[0]\n",
    "    rangle = numpy.deg2rad(angle) # angle in rads\n",
    "    \n",
    "    # calculate new image dimensions \n",
    "    nw = (abs(numpy.sin(rangle)*h) + abs(numpy.cos(rangle)*w))*scale\n",
    "    nh = (abs(numpy.cos(rangle)*h) + abs(numpy.sin(rangle)*w))*scale\n",
    "    \n",
    "    # get rotation matrix \n",
    "    rot_mat = cv2.getRotationMatrix2D((nw*0.5, nh*0.5), angle, scale)\n",
    "    \n",
    "    # old and new centers combined with rotation\n",
    "    rot_move = numpy.dot(rot_mat, numpy.array([(nw - w) * 0.5, (nh - h) * 0.5, 0]))\n",
    "    \n",
    "    # update translation\n",
    "    rot_mat[0,2] += rot_move[0]\n",
    "    rot_mat[1,2] += rot_move[1]\n",
    "    \n",
    "    return cv2.warpAffine(src, rot_mat, (int(math.ceil(nw)), int(math.ceil(nh))), flags=cv2.INTER_LANCZOS4)\n"
   ]
  },
  {
   "cell_type": "markdown",
   "metadata": {},
   "source": [
    "#### Display Transformed Images or Writes Transformed Image to File"
   ]
  },
  {
   "cell_type": "code",
   "execution_count": 8,
   "metadata": {
    "collapsed": false
   },
   "outputs": [
    {
     "name": "stdout",
     "output_type": "stream",
     "text": [
      "\n",
      "Image 1\n",
      "====================\n",
      "\n",
      "Original Image:\n"
     ]
    },
    {
     "data": {
      "image/jpeg": "[encoded data removed]",
      "text/plain": [
       "<IPython.core.display.Image object>"
      ]
     },
     "metadata": {},
     "output_type": "display_data"
    },
    {
     "name": "stdout",
     "output_type": "stream",
     "text": [
      "Normalized Image:\n"
     ]
    },
    {
     "data": {
      "image/jpeg": "[encoded data removed]",
      "text/plain": [
       "<IPython.core.display.Image object>"
      ]
     },
     "metadata": {},
     "output_type": "display_data"
    },
    {
     "name": "stdout",
     "output_type": "stream",
     "text": [
      "Noise Injected Image:\n"
     ]
    },
    {
     "data": {
      "image/jpeg": "[encoded data removed]",
      "text/plain": [
       "<IPython.core.display.Image object>"
      ]
     },
     "metadata": {},
     "output_type": "display_data"
    },
    {
     "name": "stdout",
     "output_type": "stream",
     "text": [
      "Enlarged Image:\n"
     ]
    },
    {
     "data": {
      "image/jpeg": "[encoded data removed]",
      "text/plain": [
       "<IPython.core.display.Image object>"
      ]
     },
     "metadata": {},
     "output_type": "display_data"
    },
    {
     "name": "stdout",
     "output_type": "stream",
     "text": [
      "Noise Injected, Enlarged Image:\n"
     ]
    },
    {
     "data": {
      "image/jpeg": "[encoded data removed]",
      "text/plain": [
       "<IPython.core.display.Image object>"
      ]
     },
     "metadata": {},
     "output_type": "display_data"
    },
    {
     "name": "stdout",
     "output_type": "stream",
     "text": [
      "Positively Rotated Image:\n"
     ]
    },
    {
     "data": {
      "image/jpeg": "[encoded data removed]",
      "text/plain": [
       "<IPython.core.display.Image object>"
      ]
     },
     "metadata": {},
     "output_type": "display_data"
    },
    {
     "name": "stdout",
     "output_type": "stream",
     "text": [
      "Noise Injected, Positively Rotated Image:\n"
     ]
    },
    {
     "data": {
      "image/jpeg": "[encoded data removed]",
      "text/plain": [
       "<IPython.core.display.Image object>"
      ]
     },
     "metadata": {},
     "output_type": "display_data"
    },
    {
     "name": "stdout",
     "output_type": "stream",
     "text": [
      "Negatively Rotated Image:\n"
     ]
    },
    {
     "data": {
      "image/jpeg": "[encoded data removed]",
      "text/plain": [
       "<IPython.core.display.Image object>"
      ]
     },
     "metadata": {},
     "output_type": "display_data"
    },
    {
     "name": "stdout",
     "output_type": "stream",
     "text": [
      "Noise Injected, Negatively Rotated Image:\n"
     ]
    },
    {
     "data": {
      "image/jpeg": "[encoded data removed]",
      "text/plain": [
       "<IPython.core.display.Image object>"
      ]
     },
     "metadata": {},
     "output_type": "display_data"
    },
    {
     "name": "stdout",
     "output_type": "stream",
     "text": [
      "\n",
      "Image 2\n",
      "====================\n",
      "\n",
      "Original Image:\n"
     ]
    },
    {
     "data": {
      "image/jpeg": "[encoded data removed]",
      "text/plain": [
       "<IPython.core.display.Image object>"
      ]
     },
     "metadata": {},
     "output_type": "display_data"
    },
    {
     "name": "stdout",
     "output_type": "stream",
     "text": [
      "Normalized Image:\n"
     ]
    },
    {
     "data": {
      "image/jpeg": "[encoded data removed]",
      "text/plain": [
       "<IPython.core.display.Image object>"
      ]
     },
     "metadata": {},
     "output_type": "display_data"
    },
    {
     "name": "stdout",
     "output_type": "stream",
     "text": [
      "Noise Injected Image:\n"
     ]
    },
    {
     "data": {
      "image/jpeg": "[encoded data removed]",
      "text/plain": [
       "<IPython.core.display.Image object>"
      ]
     },
     "metadata": {},
     "output_type": "display_data"
    },
    {
     "name": "stdout",
     "output_type": "stream",
     "text": [
      "Enlarged Image:\n"
     ]
    },
    {
     "data": {
      "image/jpeg": "[encoded data removed]",
      "text/plain": [
       "<IPython.core.display.Image object>"
      ]
     },
     "metadata": {},
     "output_type": "display_data"
    },
    {
     "name": "stdout",
     "output_type": "stream",
     "text": [
      "Noise Injected, Enlarged Image:\n"
     ]
    },
    {
     "data": {
      "image/jpeg": "[encoded data removed]",
      "text/plain": [
       "<IPython.core.display.Image object>"
      ]
     },
     "metadata": {},
     "output_type": "display_data"
    },
    {
     "name": "stdout",
     "output_type": "stream",
     "text": [
      "Positively Rotated Image:\n"
     ]
    },
    {
     "data": {
      "image/jpeg": "[encoded data removed]",
      "text/plain": [
       "<IPython.core.display.Image object>"
      ]
     },
     "metadata": {},
     "output_type": "display_data"
    },
    {
     "name": "stdout",
     "output_type": "stream",
     "text": [
      "Noise Injected, Positively Rotated Image:\n"
     ]
    },
    {
     "data": {
      "image/jpeg": "[encoded data removed]",
      "text/plain": [
       "<IPython.core.display.Image object>"
      ]
     },
     "metadata": {},
     "output_type": "display_data"
    },
    {
     "name": "stdout",
     "output_type": "stream",
     "text": [
      "Negatively Rotated Image:\n"
     ]
    },
    {
     "data": {
      "image/jpeg": "[encoded data removed]",
      "text/plain": [
       "<IPython.core.display.Image object>"
      ]
     },
     "metadata": {},
     "output_type": "display_data"
    },
    {
     "name": "stdout",
     "output_type": "stream",
     "text": [
      "Noise Injected, Negatively Rotated Image:\n"
     ]
    },
    {
     "data": {
      "image/jpeg": "[encoded data removed]",
      "text/plain": [
       "<IPython.core.display.Image object>"
      ]
     },
     "metadata": {},
     "output_type": "display_data"
    },
    {
     "name": "stdout",
     "output_type": "stream",
     "text": [
      "\n",
      "Image 3\n",
      "====================\n",
      "\n",
      "Original Image:\n"
     ]
    },
    {
     "data": {
      "image/jpeg": "[encoded data removed]",
      "text/plain": [
       "<IPython.core.display.Image object>"
      ]
     },
     "metadata": {},
     "output_type": "display_data"
    },
    {
     "name": "stdout",
     "output_type": "stream",
     "text": [
      "Normalized Image:\n"
     ]
    },
    {
     "data": {
      "image/jpeg": "[encoded data removed]",
      "text/plain": [
       "<IPython.core.display.Image object>"
      ]
     },
     "metadata": {},
     "output_type": "display_data"
    },
    {
     "name": "stdout",
     "output_type": "stream",
     "text": [
      "Noise Injected Image:\n"
     ]
    },
    {
     "data": {
      "image/jpeg": "[encoded data removed]",
      "text/plain": [
       "<IPython.core.display.Image object>"
      ]
     },
     "metadata": {},
     "output_type": "display_data"
    },
    {
     "name": "stdout",
     "output_type": "stream",
     "text": [
      "Enlarged Image:\n"
     ]
    },
    {
     "data": {
      "image/jpeg": "[encoded data removed]",
      "text/plain": [
       "<IPython.core.display.Image object>"
      ]
     },
     "metadata": {},
     "output_type": "display_data"
    },
    {
     "name": "stdout",
     "output_type": "stream",
     "text": [
      "Noise Injected, Enlarged Image:\n"
     ]
    },
    {
     "data": {
      "image/jpeg": "[encoded data removed]",
      "text/plain": [
       "<IPython.core.display.Image object>"
      ]
     },
     "metadata": {},
     "output_type": "display_data"
    },
    {
     "name": "stdout",
     "output_type": "stream",
     "text": [
      "Positively Rotated Image:\n"
     ]
    },
    {
     "data": {
      "image/jpeg": "[encoded data removed]",
      "text/plain": [
       "<IPython.core.display.Image object>"
      ]
     },
     "metadata": {},
     "output_type": "display_data"
    },
    {
     "name": "stdout",
     "output_type": "stream",
     "text": [
      "Noise Injected, Positively Rotated Image:\n"
     ]
    },
    {
     "data": {
      "image/jpeg": "[encoded data removed]",
      "text/plain": [
       "<IPython.core.display.Image object>"
      ]
     },
     "metadata": {},
     "output_type": "display_data"
    },
    {
     "name": "stdout",
     "output_type": "stream",
     "text": [
      "Negatively Rotated Image:\n"
     ]
    },
    {
     "data": {
      "image/jpeg": "[encoded data removed]",
      "text/plain": [
       "<IPython.core.display.Image object>"
      ]
     },
     "metadata": {},
     "output_type": "display_data"
    },
    {
     "name": "stdout",
     "output_type": "stream",
     "text": [
      "Noise Injected, Negatively Rotated Image:\n"
     ]
    },
    {
     "data": {
      "image/jpeg": "[encoded data removed]",
      "text/plain": [
       "<IPython.core.display.Image object>"
      ]
     },
     "metadata": {},
     "output_type": "display_data"
    },
    {
     "name": "stdout",
     "output_type": "stream",
     "text": [
      "\n",
      "Image 4\n",
      "====================\n",
      "\n",
      "Original Image:\n"
     ]
    },
    {
     "data": {
      "image/jpeg": "[encoded data removed]",
      "text/plain": [
       "<IPython.core.display.Image object>"
      ]
     },
     "metadata": {},
     "output_type": "display_data"
    },
    {
     "name": "stdout",
     "output_type": "stream",
     "text": [
      "Normalized Image:\n"
     ]
    },
    {
     "data": {
      "image/jpeg": "[encoded data removed]",
      "text/plain": [
       "<IPython.core.display.Image object>"
      ]
     },
     "metadata": {},
     "output_type": "display_data"
    },
    {
     "name": "stdout",
     "output_type": "stream",
     "text": [
      "Noise Injected Image:\n"
     ]
    },
    {
     "data": {
      "image/jpeg": "[encoded data removed]",
      "text/plain": [
       "<IPython.core.display.Image object>"
      ]
     },
     "metadata": {},
     "output_type": "display_data"
    },
    {
     "name": "stdout",
     "output_type": "stream",
     "text": [
      "Enlarged Image:\n"
     ]
    },
    {
     "data": {
      "image/jpeg": "[encoded data removed]",
      "text/plain": [
       "<IPython.core.display.Image object>"
      ]
     },
     "metadata": {},
     "output_type": "display_data"
    },
    {
     "name": "stdout",
     "output_type": "stream",
     "text": [
      "Noise Injected, Enlarged Image:\n"
     ]
    },
    {
     "data": {
      "image/jpeg": "[encoded data removed]",
      "text/plain": [
       "<IPython.core.display.Image object>"
      ]
     },
     "metadata": {},
     "output_type": "display_data"
    },
    {
     "name": "stdout",
     "output_type": "stream",
     "text": [
      "Positively Rotated Image:\n"
     ]
    },
    {
     "data": {
      "image/jpeg": "[encoded data removed]",
      "text/plain": [
       "<IPython.core.display.Image object>"
      ]
     },
     "metadata": {},
     "output_type": "display_data"
    },
    {
     "name": "stdout",
     "output_type": "stream",
     "text": [
      "Noise Injected, Positively Rotated Image:\n"
     ]
    },
    {
     "data": {
      "image/jpeg": "[encoded data removed]",
      "text/plain": [
       "<IPython.core.display.Image object>"
      ]
     },
     "metadata": {},
     "output_type": "display_data"
    },
    {
     "name": "stdout",
     "output_type": "stream",
     "text": [
      "Negatively Rotated Image:\n"
     ]
    },
    {
     "data": {
      "image/jpeg": "[encoded data removed]",
      "text/plain": [
       "<IPython.core.display.Image object>"
      ]
     },
     "metadata": {},
     "output_type": "display_data"
    },
    {
     "name": "stdout",
     "output_type": "stream",
     "text": [
      "Noise Injected, Negatively Rotated Image:\n"
     ]
    },
    {
     "data": {
      "image/jpeg": "[encoded data removed]",
      "text/plain": [
       "<IPython.core.display.Image object>"
      ]
     },
     "metadata": {},
     "output_type": "display_data"
    },
    {
     "name": "stdout",
     "output_type": "stream",
     "text": [
      "\n",
      "Image 5\n",
      "====================\n",
      "\n",
      "Original Image:\n"
     ]
    },
    {
     "data": {
      "image/jpeg": "[encoded data removed]",
      "text/plain": [
       "<IPython.core.display.Image object>"
      ]
     },
     "metadata": {},
     "output_type": "display_data"
    },
    {
     "name": "stdout",
     "output_type": "stream",
     "text": [
      "Normalized Image:\n"
     ]
    },
    {
     "data": {
      "image/jpeg": "[encoded data removed]",
      "text/plain": [
       "<IPython.core.display.Image object>"
      ]
     },
     "metadata": {},
     "output_type": "display_data"
    },
    {
     "name": "stdout",
     "output_type": "stream",
     "text": [
      "Noise Injected Image:\n"
     ]
    },
    {
     "data": {
      "image/jpeg": "[encoded data removed]",
      "text/plain": [
       "<IPython.core.display.Image object>"
      ]
     },
     "metadata": {},
     "output_type": "display_data"
    },
    {
     "name": "stdout",
     "output_type": "stream",
     "text": [
      "Enlarged Image:\n"
     ]
    },
    {
     "data": {
      "image/jpeg": "[encoded data removed]",
      "text/plain": [
       "<IPython.core.display.Image object>"
      ]
     },
     "metadata": {},
     "output_type": "display_data"
    },
    {
     "name": "stdout",
     "output_type": "stream",
     "text": [
      "Noise Injected, Enlarged Image:\n"
     ]
    },
    {
     "data": {
      "image/jpeg": "[encoded data removed]",
      "text/plain": [
       "<IPython.core.display.Image object>"
      ]
     },
     "metadata": {},
     "output_type": "display_data"
    },
    {
     "name": "stdout",
     "output_type": "stream",
     "text": [
      "Positively Rotated Image:\n"
     ]
    },
    {
     "data": {
      "image/jpeg": "[encoded data removed]",
      "text/plain": [
       "<IPython.core.display.Image object>"
      ]
     },
     "metadata": {},
     "output_type": "display_data"
    },
    {
     "name": "stdout",
     "output_type": "stream",
     "text": [
      "Noise Injected, Positively Rotated Image:\n"
     ]
    },
    {
     "data": {
      "image/jpeg": "[encoded data removed]",
      "text/plain": [
       "<IPython.core.display.Image object>"
      ]
     },
     "metadata": {},
     "output_type": "display_data"
    },
    {
     "name": "stdout",
     "output_type": "stream",
     "text": [
      "Negatively Rotated Image:\n"
     ]
    },
    {
     "data": {
      "image/jpeg": "[encoded data removed]",
      "text/plain": [
       "<IPython.core.display.Image object>"
      ]
     },
     "metadata": {},
     "output_type": "display_data"
    },
    {
     "name": "stdout",
     "output_type": "stream",
     "text": [
      "Noise Injected, Negatively Rotated Image:\n"
     ]
    },
    {
     "data": {
      "image/jpeg": "[encoded data removed]",
      "text/plain": [
       "<IPython.core.display.Image object>"
      ]
     },
     "metadata": {},
     "output_type": "display_data"
    },
    {
     "name": "stdout",
     "output_type": "stream",
     "text": [
      "Done.\n"
     ]
    }
   ],
   "source": [
    "def main():\n",
    "    \n",
    "    \"\"\" Displays transformed images for debugging purposes or writes transformed images to file for model training or scoring. \"\"\"\n",
    "\n",
    "    # i/o\n",
    "    \n",
    "    # input file for reading \n",
    "    file_in = open(DIR + '/' + FILE_IN, 'rt')\n",
    "    im_in_csv = csv.reader(file_in, dialect='excel')\n",
    "    \n",
    "    # output file for writing\n",
    "    file_out = open(DIR + '/' + FILE_OUT, 'wt')\n",
    "    im_out_csv = csv.writer(file_out, dialect='excel')\n",
    "    \n",
    "    # read through input file and create new images\n",
    "    \n",
    "    for i, row in enumerate(im_in_csv):\n",
    "        \n",
    "        if i > 0: # row 0 is not data\n",
    "\n",
    "            if DEBUG:\n",
    "                print()\n",
    "                print('Image ' + str(i))\n",
    "                print('====================')\n",
    "                print()\n",
    "            \n",
    "            # progress indicator\n",
    "            if i > 0 and i % 1000 == 0:\n",
    "                print('Processing image ' + str(i) + ' ...')\n",
    "\n",
    "            # read row and store label\n",
    "            row_array = numpy.asarray(row)\n",
    "            row_array = row_array.astype(numpy.float32)\n",
    "            row_label = None\n",
    "            \n",
    "            if (TRAIN): \n",
    "                row_label = row_array[0]\n",
    "                img = numpy.reshape(row_array[1:], (INPUT_SIZE))\n",
    "            else:\n",
    "                img = numpy.reshape(row_array, (INPUT_SIZE))\n",
    "                \n",
    "            if (DEBUG): \n",
    "                print('Original Image:')\n",
    "                cv2.imwrite(DIR + '/' + 'raw' + str(i) + '.jpg', img)\n",
    "                display(Image((DIR + '/' + 'raw' + str(i) + '.jpg')))\n",
    "\n",
    "            # normalize   \n",
    "            norm = normalize_scale(img)      \n",
    "            write_image_to_record(norm, im_out_csv, row_label)\n",
    "            if (DEBUG): \n",
    "                print('Normalized Image:')\n",
    "                cv2.imwrite(DIR + '/' + 'norm' + str(i) + '.jpg', norm)\n",
    "                display(Image((DIR + '/' + 'norm' + str(i) + '.jpg')))\n",
    "            if (NORMALIZE_ONLY): \n",
    "                continue\n",
    "\n",
    "            if (TRAIN):\n",
    "\n",
    "                # inject noise\n",
    "                noise = inject_noise(norm)\n",
    "                write_image_to_record(noise, im_out_csv, row_label)\n",
    "                if (DEBUG): \n",
    "                    print('Noise Injected Image:')\n",
    "                    cv2.imwrite(DIR + '/' + 'noise' + str(i) + '.jpg', noise)\n",
    "                    display(Image((DIR + '/' + 'noise' + str(i) + '.jpg')))\n",
    "\n",
    "                # enlarge\n",
    "                large = enlarge(norm)\n",
    "                if (DEBUG): \n",
    "                    print('Enlarged Image:')\n",
    "                    cv2.imwrite(DIR + '/' + 'large' + str(i) + '.jpg', large)\n",
    "                    display(Image((DIR + '/' + 'large' + str(i) + '.jpg')))\n",
    "                    \n",
    "                large_noise = enlarge(noise)\n",
    "                if (DEBUG): \n",
    "                    print('Noise Injected, Enlarged Image:')\n",
    "                    cv2.imwrite(DIR + '/' + 'large_noise' + str(i) + '.jpg', large_noise)\n",
    "                    display(Image((DIR + '/' + 'large_noise' + str(i) + '.jpg')))\n",
    "\n",
    "                # rotate + degrees\n",
    "                plus = cv2.resize(rotate_about_center(large, DEGREE), OUT_SIZE)\n",
    "                write_image_to_record(plus, im_out_csv, row_label)\n",
    "                \n",
    "                if (DEBUG): \n",
    "                    print('Positively Rotated Image:')\n",
    "                    cv2.imwrite(DIR + '/' + 'rotate_p' + str(DEGREE) + '_' + str(i) + '.jpg', plus)\n",
    "                    display(Image((DIR + '/' + 'rotate_p' + str(DEGREE) + '_' + str(i) + '.jpg')))\n",
    "\n",
    "                plus_noise = cv2.resize(rotate_about_center(large_noise, DEGREE), OUT_SIZE)\n",
    "                write_image_to_record(plus_noise, im_out_csv, row_label)\n",
    "                if (DEBUG): \n",
    "                    print('Noise Injected, Positively Rotated Image:')\n",
    "                    cv2.imwrite(DIR + '/' + 'rotate_noise_p' + str(DEGREE) + '_' + str(i) + '.jpg', plus_noise)\n",
    "                    display(Image((DIR + '/' + 'rotate_noise_p' + str(DEGREE) + '_' + str(i) + '.jpg')))\n",
    "                \n",
    "                # rotate - degrees\n",
    "                minus = cv2.resize(rotate_about_center(large, -DEGREE), (OUT_SIZE))\n",
    "                write_image_to_record(minus, im_out_csv, row_label)\n",
    "                if (DEBUG): \n",
    "                    print('Negatively Rotated Image:')\n",
    "                    cv2.imwrite(DIR + '/' + 'rotate_m' + str(DEGREE) + '_' + str(i) + '.jpg', minus)\n",
    "                    display(Image((DIR + '/' + 'rotate_m' + str(DEGREE) + '_' + str(i) + '.jpg')))\n",
    "                    \n",
    "                minus_noise= cv2.resize(rotate_about_center(large_noise, -DEGREE), (OUT_SIZE))\n",
    "                write_image_to_record(minus_noise, im_out_csv, row_label)\n",
    "                if (DEBUG): \n",
    "                    print('Noise Injected, Negatively Rotated Image:')\n",
    "                    cv2.imwrite(DIR + '/' + 'rotate_noise_m' + str(DEGREE) + '_' + str(i) + '.jpg', minus_noise)\n",
    "                    display(Image((DIR + '/' + 'rotate_noise_m' + str(DEGREE) + '_' + str(i) + '.jpg')))\n",
    "    \n",
    "            if (DEBUG):\n",
    "                if (i >= DEBUG_CUTOFF):\n",
    "                    break  \n",
    "\n",
    "        else: \n",
    "            im_out_csv.writerow(row[0:OUT_SIZE[0] * OUT_SIZE[0] + 1]) # write header\n",
    "    \n",
    "    file_in.close()\n",
    "    file_out.close()\n",
    "\n",
    "    print('Done.')\n",
    "\n",
    "if __name__ == \"__main__\":\n",
    "    main()\n",
    "    "
   ]
  }
 ],
 "metadata": {
  "anaconda-cloud": {},
  "kernelspec": {
   "display_name": "Python [conda root]",
   "language": "python",
   "name": "conda-root-py"
  },
  "language_info": {
   "codemirror_mode": {
    "name": "ipython",
    "version": 3
   },
   "file_extension": ".py",
   "mimetype": "text/x-python",
   "name": "python",
   "nbconvert_exporter": "python",
   "pygments_lexer": "ipython3",
   "version": "3.5.2"
  }
 },
 "nbformat": 4,
 "nbformat_minor": 2
}
